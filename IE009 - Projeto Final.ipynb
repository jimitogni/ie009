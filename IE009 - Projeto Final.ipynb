{
 "cells": [
  {
   "cell_type": "code",
   "execution_count": 1,
   "id": "artificial-class",
   "metadata": {},
   "outputs": [],
   "source": [
    "##### Jimi Togni\n",
    "#IE009\n",
    "\n",
    "from scipy.io import wavfile\n",
    "import numpy as np\n",
    "import matplotlib.pyplot as plt\n",
    "import cvxpy as cp\n",
    "import statsmodels.tsa.stattools as st\n",
    "from numpy.linalg import matrix_power, inv, pinv\n",
    "from scipy import stats\n",
    "from scipy.fft import fft, ifft, fftfreq\n",
    "import pysepm\n"
   ]
  },
  {
   "cell_type": "code",
   "execution_count": 2,
   "id": "adapted-wells",
   "metadata": {},
   "outputs": [],
   "source": [
    "### metodos\n",
    "def db(x):\n",
    "    return 10*np.log10(np.absolute(x))"
   ]
  },
  {
   "cell_type": "code",
   "execution_count": 3,
   "id": "ecological-tomato",
   "metadata": {},
   "outputs": [
    {
     "ename": "TypeError",
     "evalue": "db() missing 1 required positional argument: 'x'",
     "output_type": "error",
     "traceback": [
      "\u001b[0;31m---------------------------------------------------------------------------\u001b[0m",
      "\u001b[0;31mTypeError\u001b[0m                                 Traceback (most recent call last)",
      "\u001b[0;32m<ipython-input-3-47e808111c0c>\u001b[0m in \u001b[0;36m<module>\u001b[0;34m\u001b[0m\n\u001b[0;32m----> 1\u001b[0;31m \u001b[0mretordo_db\u001b[0m \u001b[0;34m=\u001b[0m \u001b[0mdb\u001b[0m\u001b[0;34m(\u001b[0m\u001b[0;34m)\u001b[0m\u001b[0;34m\u001b[0m\u001b[0;34m\u001b[0m\u001b[0m\n\u001b[0m",
      "\u001b[0;31mTypeError\u001b[0m: db() missing 1 required positional argument: 'x'"
     ]
    }
   ],
   "source": [
    "retordo_db = db()"
   ]
  },
  {
   "cell_type": "code",
   "execution_count": 4,
   "id": "absent-teacher",
   "metadata": {},
   "outputs": [],
   "source": [
    "# wavfile.read retorna dois dados\n",
    "# 1 Taxa de amostragem do arquivo WAV em int\n",
    "# 2 datanumpy array - Data read from WAV file. Data-type is determined from the file;\n",
    "fs, audio = wavfile.read(\"44_com_ruido_sem_tratamento.wav\") #audio inicial com ruido normal do ambiente"
   ]
  },
  {
   "cell_type": "code",
   "execution_count": null,
   "id": "adolescent-illinois",
   "metadata": {},
   "outputs": [],
   "source": [
    "power = audio**2\n",
    "power_avg_db = db(np.mean(power))"
   ]
  },
  {
   "cell_type": "code",
   "execution_count": 10,
   "id": "athletic-costs",
   "metadata": {},
   "outputs": [
    {
     "ename": "AttributeError",
     "evalue": "'numpy.ndarray' object has no attribute 'type'",
     "output_type": "error",
     "traceback": [
      "\u001b[0;31m---------------------------------------------------------------------------\u001b[0m",
      "\u001b[0;31mAttributeError\u001b[0m                            Traceback (most recent call last)",
      "\u001b[0;32m<ipython-input-10-a8ceaef4119c>\u001b[0m in \u001b[0;36m<module>\u001b[0;34m\u001b[0m\n\u001b[0;32m----> 1\u001b[0;31m \u001b[0maudio\u001b[0m\u001b[0;34m.\u001b[0m\u001b[0mtype\u001b[0m\u001b[0;34m\u001b[0m\u001b[0;34m\u001b[0m\u001b[0m\n\u001b[0m",
      "\u001b[0;31mAttributeError\u001b[0m: 'numpy.ndarray' object has no attribute 'type'"
     ]
    }
   ],
   "source": [
    "audio.type"
   ]
  },
  {
   "cell_type": "code",
   "execution_count": null,
   "id": "loving-assist",
   "metadata": {},
   "outputs": [],
   "source": []
  },
  {
   "cell_type": "code",
   "execution_count": null,
   "id": "alive-aside",
   "metadata": {},
   "outputs": [],
   "source": [
    "#Processamento do áudio e adição do ruído\n",
    "\n",
    "SNR = 0\n",
    "noise_db = power_avg_db - SNR\n",
    "noise_watt = 10**(noise_db/10)\n",
    "noise = np.random.normal(0, np.sqrt(noise_watt), len(audio))\n",
    "audio_noise = audio + noise\n",
    "print(\"audio = $ tipo %\", audio, audio.shape)\n",
    "print(\"noise = {} tipo {}\", noise, noise.shape)\n",
    "print(\"=================\")\n",
    "print(\"audio[:33075] = \", audio[:33075])\n",
    "print(\"audio_noise[:33075] = \", audio_noise[:33075])"
   ]
  },
  {
   "cell_type": "code",
   "execution_count": 13,
   "id": "guided-navigator",
   "metadata": {},
   "outputs": [
    {
     "name": "stdout",
     "output_type": "stream",
     "text": [
      "SNR inicial =  -0.0077444832792963325 \n",
      "\n",
      "p =  10 \n",
      "\n",
      "Autovalores de A (módulo): [0.97903885 0.97903885 0.99974324 0.99974324 0.74054429 0.74054429\n",
      " 0.93159309 0.93159309 0.9535587  0.9535587 ] \n",
      "\n",
      "Autocorrelação de e(n): \n",
      " [[ 4.94209011e+06]\n",
      " [-1.09283697e-01]\n",
      " [ 1.10296264e-03]\n",
      " [ 1.15148738e-01]\n",
      " [ 1.63198551e-01]\n",
      " [ 1.09714200e-01]\n",
      " [-1.68670646e-02]\n",
      " [-1.37198438e-01]\n",
      " [-1.76812586e-01]\n",
      " [-1.15051465e-01]\n",
      " [ 1.40601352e-02]] \n",
      "\n",
      "Ganho de Kalman: \n",
      " [[-0.38504065]\n",
      " [ 0.83227567]\n",
      " [ 0.92957269]\n",
      " [ 0.41285657]\n",
      " [ 0.60395432]\n",
      " [ 0.71596658]\n",
      " [ 0.77160101]\n",
      " [ 0.81729979]\n",
      " [ 0.76350199]\n",
      " [ 1.02536271]] \n",
      "\n",
      "SNR final =  -0.2302994202441795\n"
     ]
    }
   ],
   "source": [
    "wavfile.write(\"44_com_ruido_sem_tratamento.wav\", fs, audio_noise.astype(np.int16))\n",
    "ruido_power = (audio[:33075] - audio_noise[:33075])**2\n",
    "ruido_db = 10*np.log10(np.mean(ruido_power))\n",
    "SNR = power_avg_db - ruido_db\n",
    "print('SNR inicial = ', SNR, '\\n')\n",
    "\n",
    "#Matriz de Transição\n",
    "p = 10\n",
    "print('p = ', p, '\\n')\n",
    "y = audio_noise\n",
    "Ry = np.zeros((p,p))\n",
    "ryy = np.zeros((2*p+1,1))\n",
    "for i in range(2*p+1):            \n",
    "    aux = np.zeros(y.shape)\n",
    "    aux[:len(y)-i] = y[i:]\n",
    "    ryy[i][0] = np.mean(aux*y)\n",
    "for i in range(p):\n",
    "    Ry[i,:] = ryy[i+1:i+p+1,0]    \n",
    "a = np.matmul(np.linalg.inv(Ry),ryy[1+p:,:])\n",
    "A = np.zeros((p,p))\n",
    "A[:p-1,1:] = np.identity(p-1)\n",
    "A[p-1,:] = a[:,0]\n",
    "w, z = np.linalg.eig(A)\n",
    "print('Autovalores de A (módulo):', abs(w), '\\n')\n",
    "\n",
    "#Filtro de Kalman iterativo\n",
    "xnn_1 = np.zeros((p,1))\n",
    "xn1n = np.zeros((p,1))\n",
    "e = np.zeros((len(y)))\n",
    "H = np.zeros((1,p))\n",
    "H[0][p-1] = 1\n",
    "K = np.zeros((p,1))\n",
    "I = np.identity(p)\n",
    "for k in range(10):\n",
    "    for n in range(1,len(y)):\n",
    "        e[n] = y[n] - np.dot(H,xnn_1)\n",
    "        xnn = xnn_1 + K*e[n]\n",
    "        xn1n = np.dot(A, xnn)\n",
    "        xnn_1 = xn1n\n",
    "    ree = np.zeros((p+1,1))\n",
    "    for i in range(p+1):    \n",
    "        aux = np.zeros(e.shape)\n",
    "        aux[:len(e)- i] = e[i:]\n",
    "        ree[i][0] = np.mean(aux*e)\n",
    "    M = np.zeros((p,p))\n",
    "    for i in range(p):\n",
    "        M[i,:] = np.dot(H,np.dot(matrix_power(np.dot(A,(I - np.dot(K,H))),i),A))    \n",
    "    aux = np.zeros((p,1))\n",
    "    aux[:,0] = ree[1:,0]\n",
    "    K = K + np.dot(inv(M),aux)/ree[0][0]\n",
    "print('Autocorrelação de e(n):', '\\n', ree, '\\n')\n",
    "print('Ganho de Kalman:', '\\n', K, '\\n')\n",
    "\n",
    "#Estimação da Saída\n",
    "s_hat = np.zeros((len(y)))\n",
    "xnn_1 = np.zeros((p,1))\n",
    "for n in range(1,len(y)):\n",
    "    e[n] = y[n] - np.dot(H,xnn_1)\n",
    "    xnn = xnn_1 + K*e[n]\n",
    "    s_hat[n] = np.dot(H,xnn)\n",
    "    xn1n = np.dot(A, xnn)\n",
    "    xnn_1 = xn1n\n",
    "wavfile.write(\"44_com_ruido_py_2_6dB.WAV\", fs, s_hat.astype(np.int16))\n",
    "k =  s_hat[:33075] - audio[:33075]\n",
    "ruido_power = (k)**2\n",
    "ruido_db = 10*np.log10(np.mean(ruido_power))\n",
    "SNR = power_avg_db - ruido_db\n",
    "print('SNR final = ', SNR)"
   ]
  },
  {
   "cell_type": "markdown",
   "id": "unsigned-failure",
   "metadata": {},
   "source": [
    "###### "
   ]
  },
  {
   "cell_type": "markdown",
   "id": "9ec81b1b",
   "metadata": {},
   "source": [
    "## Diferentes SNR"
   ]
  },
  {
   "cell_type": "code",
   "execution_count": null,
   "id": "9b0354c6",
   "metadata": {},
   "outputs": [],
   "source": [
    "from scipy.io import wavfile\n",
    "import numpy as np\n",
    "import matplotlib.pyplot as plt\n",
    "import cvxpy as cp\n",
    "import statsmodels.tsa.stattools as st\n",
    "from numpy.linalg import matrix_power, inv, pinv\n",
    "from scipy import stats\n",
    "from scipy.fft import fft, ifft, fftfreq\n",
    "import pysepm\n",
    "def db(x):\n",
    "    return 10*np.log10(np.absolute(x))\n",
    "\n",
    "SNR = np.arange(-15,2,1)\n",
    "SNR_i = np.zeros((len(SNR)))\n",
    "SNR_f = np.zeros((len(SNR)))\n",
    "fs, audio = wavfile.read(\"44_com_ruido_sem_tratamento.wav\")\n",
    "\n",
    "for s in range(len(SNR)):\n",
    "    #Processamento do áudio e adição do ruído\n",
    "    power = audio**2\n",
    "    power_avg_db = db(np.mean(power))\n",
    "    noise_db = power_avg_db - SNR[s]\n",
    "    noise_watt = 10**(noise_db/10)\n",
    "    noise = np.random.normal(0, np.sqrt(noise_watt), len(audio))\n",
    "    audio_noise = audio + noise\n",
    "    ruido_power = (audio[:33075] - audio_noise[:33075])**2\n",
    "    ruido_db = 10*np.log10(np.mean(ruido_power))\n",
    "    SNR_i[s] = power_avg_db - ruido_db\n",
    "    print('SNR inicial = ', SNR_i[s])\n",
    "\n",
    "    #Matriz de Transição\n",
    "    p = 4\n",
    "    y = audio_noise\n",
    "    Ry = np.zeros((p,p))\n",
    "    ryy = np.zeros((2*p+1,1))\n",
    "    for i in range(2*p+1):            \n",
    "        aux = np.zeros(y.shape)\n",
    "        aux[:len(y)-i] = y[i:]\n",
    "        ryy[i][0] = np.mean(aux*y)\n",
    "    for i in range(p):\n",
    "        Ry[i,:] = ryy[i+1:i+p+1,0]    \n",
    "    a = np.matmul(np.linalg.inv(Ry),ryy[1+p:,:])\n",
    "    A = np.zeros((p,p))\n",
    "    A[:p-1,1:] = np.identity(p-1)\n",
    "    A[p-1,:] = a[:,0]\n",
    "    w, z = np.linalg.eig(A)\n",
    "\n",
    "    #Filtro de Kalman iterativo\n",
    "    xnn_1 = np.zeros((p,1))\n",
    "    xn1n = np.zeros((p,1))\n",
    "    e = np.zeros((len(y)))\n",
    "    H = np.zeros((1,p))\n",
    "    H[0][p-1] = 1\n",
    "    K = np.zeros((p,1))\n",
    "    I = np.identity(p)\n",
    "    for k in range(10):\n",
    "        for n in range(1,len(y)):\n",
    "            e[n] = y[n] - np.dot(H,xnn_1)\n",
    "            xnn = xnn_1 + K*e[n]\n",
    "            xn1n = np.dot(A, xnn)\n",
    "            xnn_1 = xn1n\n",
    "        ree = np.zeros((p+1,1))\n",
    "        for i in range(p+1):    \n",
    "            aux = np.zeros(e.shape)\n",
    "            aux[:len(e)- i] = e[i:]\n",
    "            ree[i][0] = np.mean(aux*e)\n",
    "        M = np.zeros((p,p))\n",
    "        for i in range(p):\n",
    "            M[i,:] = np.dot(H,np.dot(matrix_power(np.dot(A,(I - np.dot(K,H))),i),A))    \n",
    "        aux = np.zeros((p,1))\n",
    "        aux[:,0] = ree[1:,0]\n",
    "        K = K + np.dot(inv(M),aux)/ree[0][0]\n",
    "\n",
    "    s_hat = np.zeros((len(y)))\n",
    "    xnn_1 = np.zeros((p,1))\n",
    "    for n in range(1,len(y)):\n",
    "        e[n] = y[n] - np.dot(H,xnn_1)\n",
    "        xnn = xnn_1 + K*e[n]\n",
    "        s_hat[n] = np.dot(H,xnn)\n",
    "        xn1n = np.dot(A, xnn)\n",
    "        xnn_1 = xn1n\n",
    "    k =  s_hat[:33075] - audio[:33075]\n",
    "    ruido_power = (k)**2\n",
    "    ruido_db = 10*np.log10(np.mean(ruido_power))\n",
    "    SNR_f[s] = power_avg_db - ruido_db\n",
    "    print('SNR final = ', SNR_f[s], '\\n')\n",
    "    \n",
    "plt.rcParams.update({'font.size': 13.5})\n",
    "plt.figure(figsize=(6,6))\n",
    "plt.plot(SNR_i, SNR_f)\n",
    "plt.xticks(np.arange(-15,0,3))\n",
    "plt.yticks(np.arange(-23,-15,3))\n",
    "plt.xlabel('SNR da entrada (dB)')\n",
    "plt.ylabel('SNR da saída (dB)')\n",
    "plt.grid(True)"
   ]
  },
  {
   "cell_type": "code",
   "execution_count": 56,
   "id": "operational-melbourne",
   "metadata": {},
   "outputs": [],
   "source": [
    "import librosa\n",
    "\n",
    "audio_original_ft = librosa.load(\"19_com_ruido_sem_tratamento.wav\")"
   ]
  },
  {
   "cell_type": "code",
   "execution_count": 59,
   "id": "tropical-archive",
   "metadata": {},
   "outputs": [
    {
     "data": {
      "image/png": "[encoded data removed]",
      "text/plain": [
       "<Figure size 432x288 with 1 Axes>"
      ]
     },
     "metadata": {
      "needs_background": "light"
     },
     "output_type": "display_data"
    }
   ],
   "source": [
    "import matplotlib.pyplot as plt\n",
    "from scipy.io import wavfile as wav\n",
    "from scipy.fftpack import fft\n",
    "import numpy as np\n",
    "rate, data = wav.read('19_com_ruido_sem_tratamento.wav')\n",
    "fft_out = fft(data)\n",
    "%matplotlib inline\n",
    "plt.plot(data, np.abs(fft_out))\n",
    "plt.show()"
   ]
  },
  {
   "cell_type": "code",
   "execution_count": 62,
   "id": "freelance-pillow",
   "metadata": {},
   "outputs": [
    {
     "data": {
      "image/png": "[encoded data removed]",
      "text/plain": [
       "<Figure size 432x288 with 1 Axes>"
      ]
     },
     "metadata": {
      "needs_background": "light"
     },
     "output_type": "display_data"
    }
   ],
   "source": [
    "import matplotlib.pyplot as plt\n",
    "from scipy.io import wavfile as wav\n",
    "from scipy.fftpack import fft\n",
    "import numpy as np\n",
    "rate, data = wav.read('19_com_ruido_py_2_6dB.WAV')\n",
    "fft_out = fft(data)\n",
    "%matplotlib inline\n",
    "plt.plot(data, np.abs(fft_out))\n",
    "plt.show()"
   ]
  },
  {
   "cell_type": "code",
   "execution_count": 64,
   "id": "opposed-publication",
   "metadata": {},
   "outputs": [
    {
     "data": {
      "image/png": "[encoded data removed]",
      "text/plain": [
       "<Figure size 432x288 with 1 Axes>"
      ]
     },
     "metadata": {
      "needs_background": "light"
     },
     "output_type": "display_data"
    }
   ],
   "source": [
    "import matplotlib.pyplot as plt\n",
    "from scipy.io import wavfile as wav\n",
    "from scipy.fftpack import fft\n",
    "import numpy as np\n",
    "rate, data = wav.read('45_com_ruido_sem_tratamento.wav')\n",
    "fft_out = fft(data)\n",
    "%matplotlib inline\n",
    "plt.plot(data, np.abs(fft_out))\n",
    "plt.show()"
   ]
  },
  {
   "cell_type": "code",
   "execution_count": null,
   "id": "aboriginal-baker",
   "metadata": {},
   "outputs": [],
   "source": []
  },
  {
   "cell_type": "markdown",
   "id": "8931f088",
   "metadata": {},
   "source": [
    "## y = s_hat"
   ]
  },
  {
   "cell_type": "code",
   "execution_count": 35,
   "id": "4caeea5d",
   "metadata": {},
   "outputs": [
    {
     "name": "stdout",
     "output_type": "stream",
     "text": [
      "SNR inicial =  -0.023252659025658318\n",
      "SNR final =  -7.958479358177868 \n",
      "\n",
      "SNR inicial =  -14.767787133272833\n",
      "SNR final =  -10.75600078234686 \n",
      "\n",
      "SNR inicial =  -17.95356865750105\n",
      "SNR final =  -12.086282405795835 \n",
      "\n",
      "SNR inicial =  -19.394556458351033\n",
      "SNR final =  -13.09178447508583 \n",
      "\n",
      "SNR inicial =  -20.46286784598685\n",
      "SNR final =  -14.096929978798912 \n",
      "\n",
      "SNR inicial =  -21.51651466949952\n",
      "SNR final =  -15.32262614867917 \n",
      "\n",
      "SNR inicial =  -22.784999056549516\n"
     ]
    },
    {
     "name": "stderr",
     "output_type": "stream",
     "text": [
      "<ipython-input-35-15f8171b430d>:69: RuntimeWarning: overflow encountered in multiply\n",
      "  ree[i][0] = np.mean(aux*e)\n"
     ]
    },
    {
     "name": "stdout",
     "output_type": "stream",
     "text": [
      "SNR final =  nan \n",
      "\n",
      "SNR inicial =  nan\n"
     ]
    },
    {
     "ename": "LinAlgError",
     "evalue": "Array must not contain infs or NaNs",
     "output_type": "error",
     "traceback": [
      "\u001b[0;31m---------------------------------------------------------------------------\u001b[0m",
      "\u001b[0;31mLinAlgError\u001b[0m                               Traceback (most recent call last)",
      "\u001b[0;32m<ipython-input-35-15f8171b430d>\u001b[0m in \u001b[0;36m<module>\u001b[0;34m\u001b[0m\n\u001b[1;32m     47\u001b[0m     \u001b[0mA\u001b[0m\u001b[0;34m[\u001b[0m\u001b[0;34m:\u001b[0m\u001b[0mp\u001b[0m\u001b[0;34m-\u001b[0m\u001b[0;36m1\u001b[0m\u001b[0;34m,\u001b[0m\u001b[0;36m1\u001b[0m\u001b[0;34m:\u001b[0m\u001b[0;34m]\u001b[0m \u001b[0;34m=\u001b[0m \u001b[0mnp\u001b[0m\u001b[0;34m.\u001b[0m\u001b[0midentity\u001b[0m\u001b[0;34m(\u001b[0m\u001b[0mp\u001b[0m\u001b[0;34m-\u001b[0m\u001b[0;36m1\u001b[0m\u001b[0;34m)\u001b[0m\u001b[0;34m\u001b[0m\u001b[0;34m\u001b[0m\u001b[0m\n\u001b[1;32m     48\u001b[0m     \u001b[0mA\u001b[0m\u001b[0;34m[\u001b[0m\u001b[0mp\u001b[0m\u001b[0;34m-\u001b[0m\u001b[0;36m1\u001b[0m\u001b[0;34m,\u001b[0m\u001b[0;34m:\u001b[0m\u001b[0;34m]\u001b[0m \u001b[0;34m=\u001b[0m \u001b[0ma\u001b[0m\u001b[0;34m[\u001b[0m\u001b[0;34m:\u001b[0m\u001b[0;34m,\u001b[0m\u001b[0;36m0\u001b[0m\u001b[0;34m]\u001b[0m\u001b[0;34m\u001b[0m\u001b[0;34m\u001b[0m\u001b[0m\n\u001b[0;32m---> 49\u001b[0;31m     \u001b[0mw\u001b[0m\u001b[0;34m,\u001b[0m \u001b[0mz\u001b[0m \u001b[0;34m=\u001b[0m \u001b[0mnp\u001b[0m\u001b[0;34m.\u001b[0m\u001b[0mlinalg\u001b[0m\u001b[0;34m.\u001b[0m\u001b[0meig\u001b[0m\u001b[0;34m(\u001b[0m\u001b[0mA\u001b[0m\u001b[0;34m)\u001b[0m\u001b[0;34m\u001b[0m\u001b[0;34m\u001b[0m\u001b[0m\n\u001b[0m\u001b[1;32m     50\u001b[0m \u001b[0;34m\u001b[0m\u001b[0m\n\u001b[1;32m     51\u001b[0m     \u001b[0;31m#Filtro de Kalman iterativo\u001b[0m\u001b[0;34m\u001b[0m\u001b[0;34m\u001b[0m\u001b[0;34m\u001b[0m\u001b[0m\n",
      "\u001b[0;32m~/.local/lib/python3.9/site-packages/numpy/core/overrides.py\u001b[0m in \u001b[0;36meig\u001b[0;34m(*args, **kwargs)\u001b[0m\n",
      "\u001b[0;32m~/.local/lib/python3.9/site-packages/numpy/linalg/linalg.py\u001b[0m in \u001b[0;36meig\u001b[0;34m(a)\u001b[0m\n\u001b[1;32m   1310\u001b[0m     \u001b[0m_assert_stacked_2d\u001b[0m\u001b[0;34m(\u001b[0m\u001b[0ma\u001b[0m\u001b[0;34m)\u001b[0m\u001b[0;34m\u001b[0m\u001b[0;34m\u001b[0m\u001b[0m\n\u001b[1;32m   1311\u001b[0m     \u001b[0m_assert_stacked_square\u001b[0m\u001b[0;34m(\u001b[0m\u001b[0ma\u001b[0m\u001b[0;34m)\u001b[0m\u001b[0;34m\u001b[0m\u001b[0;34m\u001b[0m\u001b[0m\n\u001b[0;32m-> 1312\u001b[0;31m     \u001b[0m_assert_finite\u001b[0m\u001b[0;34m(\u001b[0m\u001b[0ma\u001b[0m\u001b[0;34m)\u001b[0m\u001b[0;34m\u001b[0m\u001b[0;34m\u001b[0m\u001b[0m\n\u001b[0m\u001b[1;32m   1313\u001b[0m     \u001b[0mt\u001b[0m\u001b[0;34m,\u001b[0m \u001b[0mresult_t\u001b[0m \u001b[0;34m=\u001b[0m \u001b[0m_commonType\u001b[0m\u001b[0;34m(\u001b[0m\u001b[0ma\u001b[0m\u001b[0;34m)\u001b[0m\u001b[0;34m\u001b[0m\u001b[0;34m\u001b[0m\u001b[0m\n\u001b[1;32m   1314\u001b[0m \u001b[0;34m\u001b[0m\u001b[0m\n",
      "\u001b[0;32m~/.local/lib/python3.9/site-packages/numpy/linalg/linalg.py\u001b[0m in \u001b[0;36m_assert_finite\u001b[0;34m(*arrays)\u001b[0m\n\u001b[1;32m    207\u001b[0m     \u001b[0;32mfor\u001b[0m \u001b[0ma\u001b[0m \u001b[0;32min\u001b[0m \u001b[0marrays\u001b[0m\u001b[0;34m:\u001b[0m\u001b[0;34m\u001b[0m\u001b[0;34m\u001b[0m\u001b[0m\n\u001b[1;32m    208\u001b[0m         \u001b[0;32mif\u001b[0m \u001b[0;32mnot\u001b[0m \u001b[0misfinite\u001b[0m\u001b[0;34m(\u001b[0m\u001b[0ma\u001b[0m\u001b[0;34m)\u001b[0m\u001b[0;34m.\u001b[0m\u001b[0mall\u001b[0m\u001b[0;34m(\u001b[0m\u001b[0;34m)\u001b[0m\u001b[0;34m:\u001b[0m\u001b[0;34m\u001b[0m\u001b[0;34m\u001b[0m\u001b[0m\n\u001b[0;32m--> 209\u001b[0;31m             \u001b[0;32mraise\u001b[0m \u001b[0mLinAlgError\u001b[0m\u001b[0;34m(\u001b[0m\u001b[0;34m\"Array must not contain infs or NaNs\"\u001b[0m\u001b[0;34m)\u001b[0m\u001b[0;34m\u001b[0m\u001b[0;34m\u001b[0m\u001b[0m\n\u001b[0m\u001b[1;32m    210\u001b[0m \u001b[0;34m\u001b[0m\u001b[0m\n\u001b[1;32m    211\u001b[0m \u001b[0;32mdef\u001b[0m \u001b[0m_is_empty_2d\u001b[0m\u001b[0;34m(\u001b[0m\u001b[0marr\u001b[0m\u001b[0;34m)\u001b[0m\u001b[0;34m:\u001b[0m\u001b[0;34m\u001b[0m\u001b[0;34m\u001b[0m\u001b[0m\n",
      "\u001b[0;31mLinAlgError\u001b[0m: Array must not contain infs or NaNs"
     ]
    }
   ],
   "source": [
    "from scipy.io import wavfile\n",
    "import numpy as np\n",
    "import matplotlib.pyplot as plt\n",
    "import cvxpy as cp\n",
    "import statsmodels.tsa.stattools as st\n",
    "from numpy.linalg import matrix_power, inv, pinv\n",
    "from scipy import stats\n",
    "from scipy.fft import fft, ifft, fftfreq\n",
    "import pysepm\n",
    "def db(x):\n",
    "    return 10*np.log10(np.absolute(x))\n",
    "\n",
    "#Processamento do áudio e adição do ruído\n",
    "fs, audio = wavfile.read(\"44_com_ruido_sem_tratamento.wav\")\n",
    "power = audio**2\n",
    "power_avg_db = db(np.mean(power))\n",
    "SNR = 0\n",
    "noise_db = power_avg_db - SNR\n",
    "noise_watt = 10**(noise_db/10)\n",
    "noise = np.random.normal(0, np.sqrt(noise_watt), len(audio))\n",
    "audio_noise = audio + noise\n",
    "wavfile.write(\"cel__com_ruido_fala_ruido_2.WAV\", fs, audio_noise.astype(np.int16))\n",
    "ruido_power = (audio[:33075] - audio_noise[:33075])**2\n",
    "ruido_db = 10*np.log10(np.mean(ruido_power))\n",
    "SNR = power_avg_db - ruido_db\n",
    "s_hat = audio_noise\n",
    "SNR_f = np.zeros((10))\n",
    "\n",
    "for j in range(len(SNR_f)):\n",
    "    #Matriz de Transição\n",
    "    ruido_power = (audio[:123075] - s_hat[:123075])**2\n",
    "    ruido_db = 10*np.log10(np.mean(ruido_power))\n",
    "    SNR = power_avg_db - ruido_db\n",
    "    print('SNR inicial = ', SNR)\n",
    "    p = 8\n",
    "    y = s_hat\n",
    "    Ry = np.zeros((p,p))\n",
    "    ryy = np.zeros((2*p+1,1))\n",
    "    for i in range(2*p+1):            \n",
    "        aux = np.zeros(y.shape)\n",
    "        aux[:len(y)-i] = y[i:]\n",
    "        ryy[i][0] = np.mean(aux*y)\n",
    "    for i in range(p):\n",
    "        Ry[i,:] = ryy[i+1:i+p+1,0]    \n",
    "    a = np.matmul(np.linalg.inv(Ry),ryy[1+p:,:])\n",
    "    A = np.zeros((p,p))\n",
    "    A[:p-1,1:] = np.identity(p-1)\n",
    "    A[p-1,:] = a[:,0]\n",
    "    w, z = np.linalg.eig(A)\n",
    "\n",
    "    #Filtro de Kalman iterativo\n",
    "    xnn_1 = np.zeros((p,1))\n",
    "    xn1n = np.zeros((p,1))\n",
    "    e = np.zeros((len(y)))\n",
    "    H = np.zeros((1,p))\n",
    "    H[0][p-1] = 1\n",
    "    K = np.zeros((p,1))\n",
    "    I = np.identity(p)\n",
    "    for k in range(10):\n",
    "        for n in range(1,len(y)):\n",
    "            e[n] = y[n] - np.dot(H,xnn_1)\n",
    "            xnn = xnn_1 + K*e[n]\n",
    "            xn1n = np.dot(A, xnn)\n",
    "            xnn_1 = xn1n\n",
    "        ree = np.zeros((p+1,1))\n",
    "        for i in range(p+1):    \n",
    "            aux = np.zeros(e.shape)\n",
    "            aux[:len(e)- i] = e[i:]\n",
    "            ree[i][0] = np.mean(aux*e)\n",
    "        M = np.zeros((p,p))\n",
    "        for i in range(p):\n",
    "            M[i,:] = np.dot(H,np.dot(matrix_power(np.dot(A,(I - np.dot(K,H))),i),A))    \n",
    "        aux = np.zeros((p,1))\n",
    "        aux[:,0] = ree[1:,0]\n",
    "        K = K + np.dot(inv(M),aux)/ree[0][0]\n",
    "    \n",
    "    s_hat = np.zeros((len(y)))\n",
    "    xnn_1 = np.zeros((p,1))\n",
    "    for n in range(1,len(y)):\n",
    "        e[n] = y[n] - np.dot(H,xnn_1)\n",
    "        xnn = xnn_1 + K*e[n]\n",
    "        s_hat[n] = np.dot(H,xnn)\n",
    "        xn1n = np.dot(A, xnn)\n",
    "        xnn_1 = xn1n\n",
    "    \n",
    "    k =  s_hat[:33075] - audio[:33075]\n",
    "    ruido_power = (k)**2\n",
    "    ruido_db = 10*np.log10(np.mean(ruido_power))\n",
    "    SNR_f[j] = power_avg_db - ruido_db\n",
    "    print('SNR final = ', SNR_f[j], '\\n')\n",
    "    \n",
    "plt.figure(figsize=(6,3))\n",
    "plt.plot(SNR_f)\n",
    "plt.xticks(np.arange(0,11))\n",
    "plt.xlabel('Iteração')\n",
    "plt.ylabel('SNR da saída (dB)')\n",
    "plt.xlim(0,9)\n",
    "plt.title('SNR da entrada = 0db')\n",
    "plt.grid(True)"
   ]
  },
  {
   "cell_type": "code",
   "execution_count": null,
   "id": "514160ea",
   "metadata": {},
   "outputs": [],
   "source": []
  }
 ],
 "metadata": {
  "kernelspec": {
   "display_name": "Python 3",
   "language": "python",
   "name": "python3"
  },
  "language_info": {
   "codemirror_mode": {
    "name": "ipython",
    "version": 3
   },
   "file_extension": ".py",
   "mimetype": "text/x-python",
   "name": "python",
   "nbconvert_exporter": "python",
   "pygments_lexer": "ipython3",
   "version": "3.9.2"
  }
 },
 "nbformat": 4,
 "nbformat_minor": 5
}
